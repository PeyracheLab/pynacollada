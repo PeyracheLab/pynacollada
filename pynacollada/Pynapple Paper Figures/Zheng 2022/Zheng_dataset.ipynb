{
 "cells": [
  {
   "cell_type": "markdown",
   "id": "387db77a",
   "metadata": {},
   "source": [
    "# Zheng et al (2022) Dataset Tutorial \n",
    "\n",
    "*Author: Dhruv Mehrotra*\n",
    "\n",
    "\n",
    "This notebook demonstrates how we use Pynapple on various publicly available datasets in systems neuroscience to streamline analysis. In this notebook, we will examine the dataset from Zheng et al (2022), which was used to generate Figure 4c in the publication. \n",
    "\n",
    "The NWB file for the example used here is provided in this repository. The entire dataset can be downloaded  <a href=\"https://dandiarchive.org/dandiset/000207/0.220216.0323\" target=\"_blank\">here</a>. \n",
    "\n",
    "First, import the necessary libraries: "
   ]
  },
  {
   "cell_type": "code",
   "execution_count": 2,
   "id": "73b93706",
   "metadata": {},
   "outputs": [],
   "source": [
    "import matplotlib.pyplot as plt \n",
    "import numpy as np \n",
    "import os\n",
    "import pandas as pd \n",
    "import pynapple as nap \n",
    "import pynwb\n"
   ]
  },
  {
   "cell_type": "markdown",
   "id": "eb1bc46e",
   "metadata": {},
   "source": [
    "The first step is to load the data from the Neurodata Without Borders (NWB) file. This is done as follows:"
   ]
  },
  {
   "cell_type": "code",
   "execution_count": 3,
   "id": "ac7b5584",
   "metadata": {},
   "outputs": [],
   "source": [
    "data_directory = '/home/dhruv/Code/Projects/Steinmetz/000207/sub-4' #Path to your data\n",
    "nwbfilename = [f for f in os.listdir(data_directory) if \"nwb\" in f][0] #Find the NWB file in the directory\n",
    "nwbfilepath = os.path.join(data_directory, nwbfilename) #Path to the NWB file\n",
    "io = pynwb.NWBHDF5IO(nwbfilepath, \"r\") #Create I/O object for NWB files\n",
    "nwbfile = io.read() #Read the NWB file"
   ]
  },
  {
   "cell_type": "markdown",
   "id": "d937cb7d",
   "metadata": {},
   "source": [
    "Now let's load the units:"
   ]
  },
  {
   "cell_type": "code",
   "execution_count": 4,
   "id": "8c0039b3",
   "metadata": {},
   "outputs": [
    {
     "data": {
      "text/html": [
       "<div>\n",
       "<style scoped>\n",
       "    .dataframe tbody tr th:only-of-type {\n",
       "        vertical-align: middle;\n",
       "    }\n",
       "\n",
       "    .dataframe tbody tr th {\n",
       "        vertical-align: top;\n",
       "    }\n",
       "\n",
       "    .dataframe thead th {\n",
       "        text-align: right;\n",
       "    }\n",
       "</style>\n",
       "<table border=\"1\" class=\"dataframe\">\n",
       "  <thead>\n",
       "    <tr style=\"text-align: right;\">\n",
       "      <th></th>\n",
       "      <th>spike_times</th>\n",
       "      <th>electrodes</th>\n",
       "    </tr>\n",
       "    <tr>\n",
       "      <th>id</th>\n",
       "      <th></th>\n",
       "      <th></th>\n",
       "    </tr>\n",
       "  </thead>\n",
       "  <tbody>\n",
       "    <tr>\n",
       "      <th>0</th>\n",
       "      <td>[0.03942225, 0.224933, 0.57630925, 0.75585675,...</td>\n",
       "      <td>x      y      z  imp              loca...</td>\n",
       "    </tr>\n",
       "    <tr>\n",
       "      <th>1</th>\n",
       "      <td>[0.11060299999999999, 0.159082, 0.170435249999...</td>\n",
       "      <td>x      y      z  imp              loca...</td>\n",
       "    </tr>\n",
       "    <tr>\n",
       "      <th>2</th>\n",
       "      <td>[0.0101695, 0.34445224999999996, 0.35126874999...</td>\n",
       "      <td>x      y      z  imp              loca...</td>\n",
       "    </tr>\n",
       "    <tr>\n",
       "      <th>3</th>\n",
       "      <td>[0.6591977499999999, 1.433779, 1.4394622499999...</td>\n",
       "      <td>x      y      z  imp              loca...</td>\n",
       "    </tr>\n",
       "    <tr>\n",
       "      <th>4</th>\n",
       "      <td>[0.083177, 0.36912849999999997, 2.747743, 3.76...</td>\n",
       "      <td>x     y      z  imp           location...</td>\n",
       "    </tr>\n",
       "    <tr>\n",
       "      <th>5</th>\n",
       "      <td>[1.9118342499999998, 2.19203725, 6.923858, 7.7...</td>\n",
       "      <td>x     y      z  imp           location...</td>\n",
       "    </tr>\n",
       "    <tr>\n",
       "      <th>6</th>\n",
       "      <td>[2.0798345, 3.18959125, 3.471756, 3.62455375, ...</td>\n",
       "      <td>x     y      z  imp           location...</td>\n",
       "    </tr>\n",
       "    <tr>\n",
       "      <th>7</th>\n",
       "      <td>[0.099465, 0.1986445, 0.21868374999999998, 0.3...</td>\n",
       "      <td>x     y      z  imp           location...</td>\n",
       "    </tr>\n",
       "    <tr>\n",
       "      <th>8</th>\n",
       "      <td>[0.30819325, 0.46718675, 1.6140295, 3.50645425...</td>\n",
       "      <td>x     y      z  imp           location...</td>\n",
       "    </tr>\n",
       "    <tr>\n",
       "      <th>9</th>\n",
       "      <td>[0.6436062499999999, 2.4721652499999998, 8.617...</td>\n",
       "      <td>x     y      z  imp           location...</td>\n",
       "    </tr>\n",
       "    <tr>\n",
       "      <th>10</th>\n",
       "      <td>[0.7324602499999999, 1.2706772499999999, 1.600...</td>\n",
       "      <td>x     y      z  imp           location...</td>\n",
       "    </tr>\n",
       "    <tr>\n",
       "      <th>11</th>\n",
       "      <td>[3.42395775, 3.483071, 3.6250035, 3.650293, 4....</td>\n",
       "      <td>x     y      z  imp           location...</td>\n",
       "    </tr>\n",
       "    <tr>\n",
       "      <th>12</th>\n",
       "      <td>[0.0947015, 0.7298137499999999, 0.994587249999...</td>\n",
       "      <td>x     y      z  imp           location...</td>\n",
       "    </tr>\n",
       "    <tr>\n",
       "      <th>13</th>\n",
       "      <td>[2.37931875, 2.6579997499999997, 3.240213, 3.5...</td>\n",
       "      <td>x      y      z  imp              loca...</td>\n",
       "    </tr>\n",
       "    <tr>\n",
       "      <th>14</th>\n",
       "      <td>[0.007858249999999999, 0.046433499999999996, 0...</td>\n",
       "      <td>x      y      z  imp              loca...</td>\n",
       "    </tr>\n",
       "    <tr>\n",
       "      <th>15</th>\n",
       "      <td>[0.65015225, 2.93840375, 2.9422444999999997, 3...</td>\n",
       "      <td>x      y      z  imp              loca...</td>\n",
       "    </tr>\n",
       "    <tr>\n",
       "      <th>16</th>\n",
       "      <td>[0.43972574999999997, 0.6502487499999999, 0.74...</td>\n",
       "      <td>x      y      z  imp              loca...</td>\n",
       "    </tr>\n",
       "    <tr>\n",
       "      <th>17</th>\n",
       "      <td>[4.1091334999999996, 6.22830575, 7.39239675, 8...</td>\n",
       "      <td>x      y      z  imp              loca...</td>\n",
       "    </tr>\n",
       "    <tr>\n",
       "      <th>18</th>\n",
       "      <td>[0.16679175, 0.21680149999999998, 1.1272725, 1...</td>\n",
       "      <td>x      y      z  imp              loca...</td>\n",
       "    </tr>\n",
       "    <tr>\n",
       "      <th>19</th>\n",
       "      <td>[2.146346, 2.87994125, 13.21902875, 13.8206007...</td>\n",
       "      <td>x      y      z  imp              loca...</td>\n",
       "    </tr>\n",
       "    <tr>\n",
       "      <th>20</th>\n",
       "      <td>[0.295531, 0.399404, 2.1373465, 2.698859499999...</td>\n",
       "      <td>x      y      z  imp              loca...</td>\n",
       "    </tr>\n",
       "    <tr>\n",
       "      <th>21</th>\n",
       "      <td>[2.89995175, 3.5633917499999996, 5.63561775, 5...</td>\n",
       "      <td>x      y      z  imp              loca...</td>\n",
       "    </tr>\n",
       "    <tr>\n",
       "      <th>22</th>\n",
       "      <td>[0.239592, 0.5635145, 1.01331625, 1.4077864999...</td>\n",
       "      <td>x      y      z  imp              loca...</td>\n",
       "    </tr>\n",
       "    <tr>\n",
       "      <th>23</th>\n",
       "      <td>[1.67002875, 2.9530955, 3.4147382499999996, 3....</td>\n",
       "      <td>x      y      z  imp              loca...</td>\n",
       "    </tr>\n",
       "    <tr>\n",
       "      <th>24</th>\n",
       "      <td>[0.80507425, 28.350659, 30.35310825, 33.120475...</td>\n",
       "      <td>x      y      z  imp              loca...</td>\n",
       "    </tr>\n",
       "    <tr>\n",
       "      <th>25</th>\n",
       "      <td>[0.33522599999999997, 0.54895125, 0.7414752499...</td>\n",
       "      <td>x      y      z  imp              loca...</td>\n",
       "    </tr>\n",
       "    <tr>\n",
       "      <th>26</th>\n",
       "      <td>[0.0642745, 3.19509675, 3.4809935, 3.567417, 7...</td>\n",
       "      <td>x      y      z  imp              loca...</td>\n",
       "    </tr>\n",
       "    <tr>\n",
       "      <th>27</th>\n",
       "      <td>[0.28973525, 1.61336175, 1.90000525, 1.9406234...</td>\n",
       "      <td>x      y      z  imp              loca...</td>\n",
       "    </tr>\n",
       "    <tr>\n",
       "      <th>28</th>\n",
       "      <td>[0.37661649999999997, 1.5559345, 2.01996825, 2...</td>\n",
       "      <td>x      y      z  imp              loca...</td>\n",
       "    </tr>\n",
       "    <tr>\n",
       "      <th>29</th>\n",
       "      <td>[0.41057875, 2.4227654999999997, 8.17502949999...</td>\n",
       "      <td>x      y      z  imp              loca...</td>\n",
       "    </tr>\n",
       "    <tr>\n",
       "      <th>30</th>\n",
       "      <td>[19.780521, 34.5957905, 36.25223175, 38.691635...</td>\n",
       "      <td>x      y      z  imp              loca...</td>\n",
       "    </tr>\n",
       "    <tr>\n",
       "      <th>31</th>\n",
       "      <td>[0.38641175, 0.41407725, 1.1401615, 1.1961875,...</td>\n",
       "      <td>x      y      z  imp              loca...</td>\n",
       "    </tr>\n",
       "    <tr>\n",
       "      <th>32</th>\n",
       "      <td>[0.9113844999999999, 1.14785775, 2.98555575, 1...</td>\n",
       "      <td>x      y      z  imp              loca...</td>\n",
       "    </tr>\n",
       "    <tr>\n",
       "      <th>33</th>\n",
       "      <td>[0.32259424999999997, 0.5832415, 6.41815425, 7...</td>\n",
       "      <td>x      y      z  imp              loca...</td>\n",
       "    </tr>\n",
       "    <tr>\n",
       "      <th>34</th>\n",
       "      <td>[6.187681749999999, 9.90826175, 10.43789649999...</td>\n",
       "      <td>x     y      z  imp           location...</td>\n",
       "    </tr>\n",
       "  </tbody>\n",
       "</table>\n",
       "</div>"
      ],
      "text/plain": [
       "                                          spike_times  \\\n",
       "id                                                      \n",
       "0   [0.03942225, 0.224933, 0.57630925, 0.75585675,...   \n",
       "1   [0.11060299999999999, 0.159082, 0.170435249999...   \n",
       "2   [0.0101695, 0.34445224999999996, 0.35126874999...   \n",
       "3   [0.6591977499999999, 1.433779, 1.4394622499999...   \n",
       "4   [0.083177, 0.36912849999999997, 2.747743, 3.76...   \n",
       "5   [1.9118342499999998, 2.19203725, 6.923858, 7.7...   \n",
       "6   [2.0798345, 3.18959125, 3.471756, 3.62455375, ...   \n",
       "7   [0.099465, 0.1986445, 0.21868374999999998, 0.3...   \n",
       "8   [0.30819325, 0.46718675, 1.6140295, 3.50645425...   \n",
       "9   [0.6436062499999999, 2.4721652499999998, 8.617...   \n",
       "10  [0.7324602499999999, 1.2706772499999999, 1.600...   \n",
       "11  [3.42395775, 3.483071, 3.6250035, 3.650293, 4....   \n",
       "12  [0.0947015, 0.7298137499999999, 0.994587249999...   \n",
       "13  [2.37931875, 2.6579997499999997, 3.240213, 3.5...   \n",
       "14  [0.007858249999999999, 0.046433499999999996, 0...   \n",
       "15  [0.65015225, 2.93840375, 2.9422444999999997, 3...   \n",
       "16  [0.43972574999999997, 0.6502487499999999, 0.74...   \n",
       "17  [4.1091334999999996, 6.22830575, 7.39239675, 8...   \n",
       "18  [0.16679175, 0.21680149999999998, 1.1272725, 1...   \n",
       "19  [2.146346, 2.87994125, 13.21902875, 13.8206007...   \n",
       "20  [0.295531, 0.399404, 2.1373465, 2.698859499999...   \n",
       "21  [2.89995175, 3.5633917499999996, 5.63561775, 5...   \n",
       "22  [0.239592, 0.5635145, 1.01331625, 1.4077864999...   \n",
       "23  [1.67002875, 2.9530955, 3.4147382499999996, 3....   \n",
       "24  [0.80507425, 28.350659, 30.35310825, 33.120475...   \n",
       "25  [0.33522599999999997, 0.54895125, 0.7414752499...   \n",
       "26  [0.0642745, 3.19509675, 3.4809935, 3.567417, 7...   \n",
       "27  [0.28973525, 1.61336175, 1.90000525, 1.9406234...   \n",
       "28  [0.37661649999999997, 1.5559345, 2.01996825, 2...   \n",
       "29  [0.41057875, 2.4227654999999997, 8.17502949999...   \n",
       "30  [19.780521, 34.5957905, 36.25223175, 38.691635...   \n",
       "31  [0.38641175, 0.41407725, 1.1401615, 1.1961875,...   \n",
       "32  [0.9113844999999999, 1.14785775, 2.98555575, 1...   \n",
       "33  [0.32259424999999997, 0.5832415, 6.41815425, 7...   \n",
       "34  [6.187681749999999, 9.90826175, 10.43789649999...   \n",
       "\n",
       "                                           electrodes  \n",
       "id                                                     \n",
       "0           x      y      z  imp              loca...  \n",
       "1           x      y      z  imp              loca...  \n",
       "2           x      y      z  imp              loca...  \n",
       "3           x      y      z  imp              loca...  \n",
       "4           x     y      z  imp           location...  \n",
       "5           x     y      z  imp           location...  \n",
       "6           x     y      z  imp           location...  \n",
       "7           x     y      z  imp           location...  \n",
       "8           x     y      z  imp           location...  \n",
       "9           x     y      z  imp           location...  \n",
       "10          x     y      z  imp           location...  \n",
       "11          x     y      z  imp           location...  \n",
       "12          x     y      z  imp           location...  \n",
       "13          x      y      z  imp              loca...  \n",
       "14          x      y      z  imp              loca...  \n",
       "15          x      y      z  imp              loca...  \n",
       "16          x      y      z  imp              loca...  \n",
       "17          x      y      z  imp              loca...  \n",
       "18          x      y      z  imp              loca...  \n",
       "19          x      y      z  imp              loca...  \n",
       "20          x      y      z  imp              loca...  \n",
       "21          x      y      z  imp              loca...  \n",
       "22          x      y      z  imp              loca...  \n",
       "23          x      y      z  imp              loca...  \n",
       "24          x      y      z  imp              loca...  \n",
       "25          x      y      z  imp              loca...  \n",
       "26          x      y      z  imp              loca...  \n",
       "27          x      y      z  imp              loca...  \n",
       "28          x      y      z  imp              loca...  \n",
       "29          x      y      z  imp              loca...  \n",
       "30          x      y      z  imp              loca...  \n",
       "31          x      y      z  imp              loca...  \n",
       "32          x      y      z  imp              loca...  \n",
       "33          x      y      z  imp              loca...  \n",
       "34          x     y      z  imp           location...  "
      ]
     },
     "execution_count": 4,
     "metadata": {},
     "output_type": "execute_result"
    }
   ],
   "source": [
    "units = nwbfile.units.to_dataframe() #Make a DataFrame of units\n",
    "\n",
    "#What does this look like?\n",
    "units"
   ]
  },
  {
   "cell_type": "markdown",
   "id": "1e53d5d6",
   "metadata": {},
   "source": [
    "This DataFrame has 3 columns: the unit ID, spike timings, and the electrode locations. Let's extract the spike timings and put them in a Pynapple TsGroup."
   ]
  },
  {
   "cell_type": "code",
   "execution_count": 5,
   "id": "fb6d063f",
   "metadata": {},
   "outputs": [
    {
     "data": {
      "text/plain": [
       "  Index    Freq. (Hz)\n",
       "-------  ------------\n",
       "      0          7\n",
       "      1          7.24\n",
       "      2          6.09\n",
       "      3          6.92\n",
       "      4          0.4\n",
       "      5          0.46\n",
       "      6          1.81\n",
       "      7          4.79\n",
       "      8          1.31\n",
       "      9          0.62\n",
       "     10          1.51\n",
       "     11          0.77\n",
       "     12          1.46\n",
       "     13          0.4\n",
       "     14          6.27\n",
       "     15          1.15\n",
       "     16          2.15\n",
       "     17          0.63\n",
       "     18          2.88\n",
       "     19          0.35\n",
       "     20          1.75\n",
       "     21          0.58\n",
       "     22          2.13\n",
       "     23          1.51\n",
       "     24          0.27\n",
       "     25          7.35\n",
       "     26          0.37\n",
       "     27          1.89\n",
       "     28          1.13\n",
       "     29          0.6\n",
       "     30          0.18\n",
       "     31          2.33\n",
       "     32          0.31\n",
       "     33          0.69\n",
       "     34          0.66"
      ]
     },
     "execution_count": 5,
     "metadata": {},
     "output_type": "execute_result"
    }
   ],
   "source": [
    "#Create a dictionary of spike timings\n",
    "spike_times = {\n",
    "            n: nap.Ts(t = units.loc[n, \"spike_times\"], time_units = \"s\")\n",
    "            for n in units.index\n",
    "        }\n",
    "\n",
    "spikes = nap.TsGroup(spike_times)\n",
    "\n",
    "#What does this look like? \n",
    "spikes\n"
   ]
  },
  {
   "cell_type": "markdown",
   "id": "15bd7012",
   "metadata": {},
   "source": [
    "The spike times TsGroup has 2 columns: The unit ID, and the firing rate of the units in Hz.\n",
    "\n",
    "Let's also extract the electrode locations:"
   ]
  },
  {
   "cell_type": "code",
   "execution_count": 6,
   "id": "4bdd55b6",
   "metadata": {},
   "outputs": [
    {
     "data": {
      "text/plain": [
       "array([b'hippocampus_right', b'hippocampus_right', b'hippocampus_right',\n",
       "       b'hippocampus_right', b'hippocampus_right', b'amygdala_right',\n",
       "       b'amygdala_right', b'amygdala_right', b'amygdala_right',\n",
       "       b'amygdala_right', b'hippocampus_right', b'hippocampus_right',\n",
       "       b'hippocampus_right', b'hippocampus_right', b'hippocampus_right',\n",
       "       b'hippocampus_right', b'hippocampus_right', b'hippocampus_right',\n",
       "       b'hippocampus_right'], dtype='|S17')"
      ]
     },
     "execution_count": 6,
     "metadata": {},
     "output_type": "execute_result"
    }
   ],
   "source": [
    "electrode_location = np.array(nwbfile.units.electrodes.get('location'))\n",
    "\n",
    "#What does this look like? \n",
    "electrode_location"
   ]
  },
  {
   "cell_type": "markdown",
   "id": "4202df5c",
   "metadata": {},
   "source": [
    "Next, let's get the table of all stimulus times, as shown below:"
   ]
  },
  {
   "cell_type": "code",
   "execution_count": 7,
   "id": "90434e44",
   "metadata": {},
   "outputs": [
    {
     "data": {
      "text/plain": [
       "encoding_table pynwb.epoch.TimeIntervals at 0x139986732956448\n",
       "Fields:\n",
       "  colnames: ['start_time' 'stop_time' 'fixcross_time' 'ExperimentID' 'boundary1_time'\n",
       " 'boundary2_time' 'boundary3_time' 'stimCategory' 'Clip_name']\n",
       "  columns: (\n",
       "    start_time <class 'hdmf.common.table.VectorData'>,\n",
       "    stop_time <class 'hdmf.common.table.VectorData'>,\n",
       "    fixcross_time <class 'hdmf.common.table.VectorData'>,\n",
       "    ExperimentID <class 'hdmf.common.table.VectorData'>,\n",
       "    boundary1_time <class 'hdmf.common.table.VectorData'>,\n",
       "    boundary2_time <class 'hdmf.common.table.VectorData'>,\n",
       "    boundary3_time <class 'hdmf.common.table.VectorData'>,\n",
       "    stimCategory <class 'hdmf.common.table.VectorData'>,\n",
       "    Clip_name <class 'hdmf.common.table.VectorData'>\n",
       "  )\n",
       "  description: intervals for the encoding task\n",
       "  id: id <class 'hdmf.common.table.ElementIdentifiers'>"
      ]
     },
     "execution_count": 7,
     "metadata": {},
     "output_type": "execute_result"
    }
   ],
   "source": [
    "encoding_table = nwbfile.intervals.get('encoding_table') #Get the encoding table for all stimuli\n",
    "\n",
    "#What does this look like?\n",
    "encoding_table"
   ]
  },
  {
   "cell_type": "markdown",
   "id": "0dfdb3ff",
   "metadata": {},
   "source": [
    "This table has, among other things, the scene boundary times for which we will plot the peri-event time histogram (PETH).\n",
    "\n",
    "There are 3 types of scene boundaries in this data. For the purposes of demonstration, we will use only the \"No boundary\" (NB) and the \"Hard boundary\" (HB conditions). The encoding table has a *stimCategory* field, which tells us the type of boundary corresponding to a given trial. "
   ]
  },
  {
   "cell_type": "code",
   "execution_count": 8,
   "id": "f6437181",
   "metadata": {},
   "outputs": [
    {
     "data": {
      "text/plain": [
       "array([0, 1, 2, 0, 0, 0, 1, 0, 2, 1, 2, 0, 2, 0, 1, 1, 1, 1, 0, 0, 2, 0,\n",
       "       0, 2, 0, 1, 0, 2, 0, 0, 2, 0, 0, 0, 0, 2, 2, 2, 0, 0, 1, 1, 1, 1,\n",
       "       0, 2, 1, 1, 0, 2, 1, 0, 2, 2, 2, 0, 1, 0, 1, 1, 2, 2, 0, 2, 2, 2,\n",
       "       1, 1, 2, 1, 0, 2, 2, 1, 0, 1, 2, 0, 2, 2, 1, 1, 1, 1, 2, 1, 2, 2,\n",
       "       1, 1], dtype=uint8)"
      ]
     },
     "execution_count": 8,
     "metadata": {},
     "output_type": "execute_result"
    }
   ],
   "source": [
    "stimCategory = np.array(encoding_table.stimCategory.data) #Get the scene boundary type for all trials\n",
    "\n",
    "#What does this look like? \n",
    "stimCategory"
   ]
  },
  {
   "cell_type": "markdown",
   "id": "56aea81f",
   "metadata": {},
   "source": [
    "Trials marked 0 correspond to NB, while trials marked 2 correspond to HB. Let's extract the trial numbers for NB and HB trials, as shown below:"
   ]
  },
  {
   "cell_type": "code",
   "execution_count": 9,
   "id": "b4e13c94",
   "metadata": {},
   "outputs": [],
   "source": [
    "indxNB = np.where(stimCategory == 0) #NB trial indices\n",
    "indxHB = np.where(stimCategory == 2) #HB trial indices"
   ]
  },
  {
   "cell_type": "markdown",
   "id": "5dddc4d0",
   "metadata": {},
   "source": [
    "The encoding table also has 3 types of boundary times. For the purposes of our demonstration, we will focus on boundary1 times, and extract them as shown below:"
   ]
  },
  {
   "cell_type": "code",
   "execution_count": 10,
   "id": "185337e8",
   "metadata": {},
   "outputs": [
    {
     "data": {
      "text/plain": [
       "array([  5.06846275,  12.88060075,  23.071072  ,  32.1604755 ,\n",
       "        41.470909  ,  49.5747065 ,  56.07442325,  72.803867  ,\n",
       "        82.1299925 ,  92.77667275,  99.9925845 , 109.0787315 ,\n",
       "       118.0778575 , 133.12435825, 140.94827125, 147.8236585 ,\n",
       "       160.726736  , 170.441769  , 183.29262575, 191.11327175,\n",
       "       199.63382425, 208.5142425 , 217.6186295 , 232.62687825,\n",
       "       241.7270365 , 250.58327775, 259.5545145 , 268.6661045 ,\n",
       "       278.026902  , 287.04517875, 301.2426685 , 310.21093375,\n",
       "       319.1822215 , 328.13037175, 337.16751875, 363.737004  ,\n",
       "       372.785663  , 381.86749625, 391.2704085 , 400.5077995 ,\n",
       "       407.28660475, 416.0272855 , 431.792285  , 441.75272875,\n",
       "       448.88401175, 456.97766275, 463.88864475, 472.13035175,\n",
       "       490.53584775, 499.7064625 , 507.6917495 , 518.78793775,\n",
       "       528.140675  , 537.1412335 , 552.5116415 , 562.4287995 ,\n",
       "       569.44012625, 580.99649325, 591.974217  , 597.74463025,\n",
       "       608.3638655 , 624.44389125, 633.4175285 , 642.3969695 ,\n",
       "       651.776966  , 660.699774  , 676.9439885 , 681.3602465 ,\n",
       "       692.799878  , 699.53861175, 711.341688  , 720.4819275 ,\n",
       "       729.43782175, 772.99961425, 780.19490625, 788.1175045 ,\n",
       "       798.34264525, 807.54519   , 817.25781375, 835.1736475 ,\n",
       "       842.54760125, 852.294991  , 861.40924725, 868.63873425,\n",
       "       887.93252325, 898.284193  , 905.9068505 , 915.1383965 ,\n",
       "       921.90619325, 932.99710575])"
      ]
     },
     "execution_count": 10,
     "metadata": {},
     "output_type": "execute_result"
    }
   ],
   "source": [
    "boundary1_time = np.array(encoding_table.boundary1_time.data) #Get timings of Boundary1\n",
    "\n",
    "#What does this look like? \n",
    "boundary1_time"
   ]
  },
  {
   "cell_type": "markdown",
   "id": "a4070c05",
   "metadata": {},
   "source": [
    "This contains the timings of all boundaries in this block of trials. Note that we also have the type of boundary for each trial. Let's store the NB and HB boundary timings in separate variables, as Pynapple Ts objects:"
   ]
  },
  {
   "cell_type": "code",
   "execution_count": 11,
   "id": "101376c5",
   "metadata": {},
   "outputs": [],
   "source": [
    "NB = nap.Ts(boundary1_time[indxNB]) #NB timings\n",
    "HB = nap.Ts(boundary1_time[indxHB]) #HB timings\n",
    "\n",
    "io.close() #Close the I/O object"
   ]
  },
  {
   "cell_type": "markdown",
   "id": "e664467f",
   "metadata": {},
   "source": [
    "Now the analysis can truly begin! \n",
    "\n",
    "***\n",
    "\n",
    "## Step-by-step tutorial\n",
    "\n",
    "### Peri-Event Time Histogram (PETH)\n",
    "\n",
    "A PETH is a plot where we align a variable of interest (for example, spikes) to an external event (in this case, to boundary times). This visualization helps us infer relationships between the two.\n",
    "\n",
    "For our demonstration, we will align the spikes of the first unit, which is located in the hippocampus, to the times of NB and HB. You can do a quick check to verify that the first unit is indeed located in the hippocampus, we leave it to you.\n",
    "\n",
    "With Pynapple, PETHs can be computed with a single line of code!"
   ]
  },
  {
   "cell_type": "code",
   "execution_count": 12,
   "id": "f907532f",
   "metadata": {},
   "outputs": [
    {
     "name": "stderr",
     "output_type": "stream",
     "text": [
      "/home/dhruv/pynapple/pynapple/core/time_series.py:154: RuntimeWarning: invalid value encountered in double_scalars\n",
      "  self.rate = len(t) / self.time_support.tot_length(\"s\")\n",
      "/home/dhruv/pynapple/pynapple/core/time_series.py:154: RuntimeWarning: invalid value encountered in double_scalars\n",
      "  self.rate = len(t) / self.time_support.tot_length(\"s\")\n"
     ]
    },
    {
     "data": {
      "image/png": "[encoded data removed]",
      "text/plain": [
       "<Figure size 640x480 with 2 Axes>"
      ]
     },
     "metadata": {},
     "output_type": "display_data"
    }
   ],
   "source": [
    "NB_peth = nap.compute_perievent(spikes[0], NB, minmax = (-0.5,1)) #Compute PETH of unit aligned to NB, for -0.5 to 1s windows\n",
    "HB_peth = nap.compute_perievent(spikes[0], HB, minmax = (-0.5,1)) #Compute PETH of unit aligned to HB, for -0.5 to 1s windows\n",
    "\n",
    "#Let's plot the PETH\n",
    "plt.figure()\n",
    "plt.rc('font', size = 12) \n",
    "plt.subplot(211) #Plot the figures in 2 rows \n",
    "for i,n in enumerate(NB_peth):\n",
    "     plt.plot(NB_peth[n].as_units('s').fillna(i), 'o', color = [102/255,204/255,0/255], markersize = 4) #Plot PETH\n",
    "plt.axvline(0, linewidth = 2, color = 'k', linestyle = '--') #Plot a line at t = 0 \n",
    "plt.yticks([0,30]) #Set ticks on Y-axis\n",
    "plt.gca().set_yticklabels(['1','30']) #Label the ticks\n",
    "plt.xlabel('Time from NB (s)') #Time from boundary in seconds, on X-axis\n",
    "plt.ylabel('Trial Number') #Trial number on Y-axis\n",
    "\n",
    "plt.subplot(212)\n",
    "for i,n in enumerate(HB_peth):\n",
    "     plt.plot(HB_peth[n].as_units('s').fillna(i), 'o', color = [255/255,99/255,71/255], markersize = 4) #Plot PETH\n",
    "plt.axvline(0, linewidth = 2, color = 'k', linestyle = '--') #Plot a line at t = 0 \n",
    "plt.yticks([0,30]) #Set ticks on Y-axis\n",
    "plt.gca().set_yticklabels(['1','30']) #Label the ticks\n",
    "plt.xlabel('Time from HB (s)') #Time from boundary in seconds, on X-axis\n",
    "plt.ylabel('Trial Number') #Trial number on Y-axis\n",
    "plt.subplots_adjust(wspace = 0.2, hspace = 0.5, top = 0.85) \n",
    "\n"
   ]
  },
  {
   "cell_type": "markdown",
   "id": "9c1ee614",
   "metadata": {},
   "source": [
    "Awesome! From the PETH, we can see that this neuron fires after boundary onset in HB trials. This is an example of what the authors describe  <a href=\"https://www.nature.com/articles/s41593-022-01020-w\" target=\"_blank\">here</a> as a *boundary cell*."
   ]
  },
  {
   "cell_type": "markdown",
   "id": "7e3b9d52",
   "metadata": {},
   "source": [
    "*** \n",
    "\n",
    "### PETH of firing rate for NB and HB trials\n",
    "\n",
    "Now that we have the PETH of spiking, we can go one step further. We will plot the mean firing rate of this cell aligned to the boundary for each trial type. Doing this in Pynapple is very simple!"
   ]
  },
  {
   "cell_type": "code",
   "execution_count": 13,
   "id": "4cf4f333",
   "metadata": {},
   "outputs": [
    {
     "data": {
      "text/plain": [
       "<matplotlib.legend.Legend at 0x7f51305e5df0>"
      ]
     },
     "execution_count": 13,
     "metadata": {},
     "output_type": "execute_result"
    },
    {
     "data": {
      "image/png": "[encoded data removed]",
      "text/plain": [
       "<Figure size 640x480 with 1 Axes>"
      ]
     },
     "metadata": {},
     "output_type": "display_data"
    }
   ],
   "source": [
    "bin_size = 0.2 #200ms bin size\n",
    "step_size = 0.01 #10ms step size, to make overlapping bins \n",
    "winsize = int(bin_size/step_size) #Window size \n",
    "\n",
    "#Use Pynapple to compute binned spike counts\n",
    "counts_NB = NB_peth.count(step_size) #Spike counts binned in 10ms steps, for NB trials\n",
    "counts_HB = HB_peth.count(step_size) #Spike counts binned in 10ms steps, for HB trials\n",
    "\n",
    "#Smoothing binned spike counts using a window of size 20, for both trial types\n",
    "counts_NB = counts_NB.as_dataframe().rolling(winsize, win_type = 'gaussian', min_periods = 1, center = True, axis = 0).mean(std = 0.2 * winsize) \n",
    "counts_HB = counts_HB.as_dataframe().rolling(winsize, win_type = 'gaussian', min_periods = 1, center = True, axis = 0).mean(std = 0.2 * winsize) \n",
    "\n",
    "#Compute firing rate for both trial types\n",
    "fr_NB = counts_NB * winsize\n",
    "fr_HB = counts_HB * winsize\n",
    "\n",
    "#Compute the mean firing rate for both trial types \n",
    "meanfr_NB = fr_NB.mean(axis = 1)\n",
    "meanfr_HB = fr_HB.mean(axis = 1)\n",
    "\n",
    "#Compute standard error of mean (SEM) of the firing rate for both trial types\n",
    "error_NB = fr_NB.sem(axis = 1)\n",
    "error_HB = fr_HB.sem(axis = 1)\n",
    "\n",
    "#Plot the mean +/- SEM of firing rate for both trial types\n",
    "plt.figure()\n",
    "plt.plot(meanfr_NB , color = [102/255, 204/255, 0/255], label = 'NB') #Plot mean firing rate for NB trials\n",
    "#Plot SEM for NB trials\n",
    "plt.fill_between(meanfr_NB.index.values, meanfr_NB.values - error_NB, meanfr_NB.values + error_NB, color = [102/255, 204/255, 0/255], alpha = 0.2)\n",
    "plt.plot(meanfr_HB , color = [255/255, 99/255, 71/255], label = 'HB')  #Plot mean firing rate for HB trials\n",
    "#Plot SEM for NB trials\n",
    "plt.fill_between(meanfr_HB.index.values, meanfr_HB.values - error_HB, meanfr_HB.values + error_HB, color = [255/255, 99/255, 71/255], alpha = 0.2)\n",
    "plt.axvline(0, linewidth = 2, color = 'k', linestyle = '--') #Plot a line at t = 0 \n",
    "plt.xlabel('Time from boundary (s)') #Time from boundary in seconds, on X-axis\n",
    "plt.ylabel('Firing rate (Hz)') #Firing rate in Hz on Y-axis\n",
    "plt.legend(loc = 'upper right')"
   ]
  },
  {
   "cell_type": "markdown",
   "id": "cfa4670b",
   "metadata": {},
   "source": [
    "This plot verifies what we visualized in the PETH rasters above, that this cell responds to a hard boundary. Hence, it is a *boundary cell*. To learn more about these cells, please check out the original study <a href=\"https://www.nature.com/articles/s41593-022-01020-w\" target=\"_blank\">here</a>. \n",
    "\n",
    "I hope this tutorial was helpful. If you have any questions, comments or suggestions, please feel free to reach out to the Pynapple Team!"
   ]
  }
 ],
 "metadata": {
  "kernelspec": {
   "display_name": "Python 3 (ipykernel)",
   "language": "python",
   "name": "python3"
  },
  "language_info": {
   "codemirror_mode": {
    "name": "ipython",
    "version": 3
   },
   "file_extension": ".py",
   "mimetype": "text/x-python",
   "name": "python",
   "nbconvert_exporter": "python",
   "pygments_lexer": "ipython3",
   "version": "3.8.13"
  }
 },
 "nbformat": 4,
 "nbformat_minor": 5
}
